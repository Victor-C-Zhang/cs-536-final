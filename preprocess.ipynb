{
 "cells": [
  {
   "cell_type": "code",
   "execution_count": 35,
   "outputs": [],
   "source": [
    "import pickle\n",
    "import os"
   ],
   "metadata": {
    "collapsed": false,
    "pycharm": {
     "name": "#%%\n"
    }
   }
  },
  {
   "cell_type": "code",
   "execution_count": 36,
   "outputs": [],
   "source": [
    "current_file=os.path.abspath('.')\n",
    "data_file_path=os.path.join(current_file, 'original_feature')"
   ],
   "metadata": {
    "collapsed": false,
    "pycharm": {
     "name": "#%%\n"
    }
   }
  },
  {
   "cell_type": "markdown",
   "source": [
    "## generate data index"
   ],
   "metadata": {
    "collapsed": false,
    "pycharm": {
     "name": "#%% md\n"
    }
   }
  },
  {
   "cell_type": "code",
   "execution_count": 37,
   "outputs": [],
   "source": [
    "import json"
   ],
   "metadata": {
    "collapsed": false,
    "pycharm": {
     "name": "#%%\n"
    }
   }
  },
  {
   "cell_type": "code",
   "execution_count": 38,
   "outputs": [],
   "source": [
    "with open(os.path.join(data_file_path, 'layer2.json'),'r') as f:\n",
    "    str_data=f.read()\n",
    "data=json.loads(str_data)"
   ],
   "metadata": {
    "collapsed": false,
    "pycharm": {
     "name": "#%%\n"
    }
   }
  },
  {
   "cell_type": "code",
   "execution_count": 39,
   "outputs": [],
   "source": [
    "data_index={}\n",
    "for index, id_info in enumerate(data):\n",
    "    data_index[id_info['id']]=index\n",
    "str_data_index=json.dumps(data_index)\n",
    "with open(os.path.join(data_file_path, 'data_index.json'), 'w') as f:\n",
    "    f.write(str_data_index)"
   ],
   "metadata": {
    "collapsed": false,
    "pycharm": {
     "name": "#%%\n"
    }
   }
  },
  {
   "cell_type": "markdown",
   "source": [
    "## generate image list"
   ],
   "metadata": {
    "collapsed": false,
    "pycharm": {
     "name": "#%% md\n"
    }
   }
  },
  {
   "cell_type": "markdown",
   "source": [
    "### train"
   ],
   "metadata": {
    "collapsed": false,
    "pycharm": {
     "name": "#%% md\n"
    }
   }
  },
  {
   "cell_type": "code",
   "execution_count": 6,
   "outputs": [],
   "source": [
    "features_path='D:/python/536_final/features'"
   ],
   "metadata": {
    "collapsed": false,
    "pycharm": {
     "name": "#%%\n"
    }
   }
  },
  {
   "cell_type": "code",
   "execution_count": 11,
   "outputs": [],
   "source": [
    "test_path='D:/536/data/test'\n",
    "train_path='D:/536/data/train'\n",
    "val_path='D:/536/data/val'"
   ],
   "metadata": {
    "collapsed": false,
    "pycharm": {
     "name": "#%%\n"
    }
   }
  },
  {
   "cell_type": "code",
   "execution_count": 8,
   "outputs": [],
   "source": [
    "with open(os.path.join(features_path, 'embeddings_train1.pkl'), 'rb') as f:\n",
    "    pkl_data=f.read()\n",
    "train=pickle.loads(pkl_data)"
   ],
   "metadata": {
    "collapsed": false,
    "pycharm": {
     "name": "#%%\n"
    }
   }
  },
  {
   "cell_type": "code",
   "execution_count": 16,
   "outputs": [
    {
     "data": {
      "text/plain": "array(['000075604a', '00007bfd16', '000095fc1d', ..., 'ffffcd4444',\n       'ffffd33513', 'ffffd533d7'], dtype='<U10')"
     },
     "execution_count": 16,
     "metadata": {},
     "output_type": "execute_result"
    }
   ],
   "source": [
    "train[-1]"
   ],
   "metadata": {
    "collapsed": false,
    "pycharm": {
     "name": "#%%\n"
    }
   }
  },
  {
   "cell_type": "code",
   "execution_count": 22,
   "outputs": [],
   "source": [
    "train=train[-1]"
   ],
   "metadata": {
    "collapsed": false,
    "pycharm": {
     "name": "#%%\n"
    }
   }
  },
  {
   "cell_type": "code",
   "execution_count": 33,
   "outputs": [],
   "source": [
    "image_path_list=[]\n",
    "for index, id in enumerate(train):\n",
    "    image_info=data[data_index[id]]['images'][0]['id']\n",
    "    image_path=os.path.join(train_path, image_info[0], image_info[1], image_info[2], image_info[3], image_info)\n",
    "    # if not os.path.exists(image_path):\n",
    "    #     print('False')\n",
    "    image_path_list.append(image_path)\n",
    "\n",
    "image_path_list_str=json.dumps(image_path_list)\n",
    "with open(os.path.join(data_file_path, 'train_data_path.json'), 'w') as f:\n",
    "    f.write(image_path_list_str)"
   ],
   "metadata": {
    "collapsed": false,
    "pycharm": {
     "name": "#%%\n"
    }
   }
  },
  {
   "cell_type": "markdown",
   "source": [
    "### test"
   ],
   "metadata": {
    "collapsed": false,
    "pycharm": {
     "name": "#%% md\n"
    }
   }
  },
  {
   "cell_type": "code",
   "execution_count": null,
   "outputs": [],
   "source": [],
   "metadata": {
    "collapsed": false,
    "pycharm": {
     "name": "#%%\n"
    }
   }
  },
  {
   "cell_type": "code",
   "execution_count": 37,
   "outputs": [],
   "source": [
    "with open(os.path.join(features_path, 'embeddings_test1.pkl'), 'rb') as f:\n",
    "    pkl_data=f.read()\n",
    "train=pickle.loads(pkl_data)"
   ],
   "metadata": {
    "collapsed": false,
    "pycharm": {
     "name": "#%%\n"
    }
   }
  },
  {
   "cell_type": "code",
   "execution_count": 38,
   "outputs": [],
   "source": [
    "train=train[-1]"
   ],
   "metadata": {
    "collapsed": false,
    "pycharm": {
     "name": "#%%\n"
    }
   }
  },
  {
   "cell_type": "code",
   "execution_count": 40,
   "outputs": [],
   "source": [
    "image_path_list=[]\n",
    "for index, id in enumerate(train):\n",
    "    image_info=data[data_index[id]]['images'][0]['id']\n",
    "    image_path=os.path.join(test_path, image_info[0], image_info[1], image_info[2], image_info[3], image_info)\n",
    "    # if not os.path.exists(image_path):\n",
    "    #     print('False')\n",
    "    image_path_list.append(image_path)\n",
    "\n",
    "image_path_list_str=json.dumps(image_path_list)\n",
    "with open(os.path.join(data_file_path, 'test_data_path.json'), 'w') as f:\n",
    "    f.write(image_path_list_str)"
   ],
   "metadata": {
    "collapsed": false,
    "pycharm": {
     "name": "#%%\n"
    }
   }
  },
  {
   "cell_type": "markdown",
   "source": [
    "### val"
   ],
   "metadata": {
    "collapsed": false,
    "pycharm": {
     "name": "#%% md\n"
    }
   }
  },
  {
   "cell_type": "code",
   "execution_count": null,
   "outputs": [],
   "source": [],
   "metadata": {
    "collapsed": false,
    "pycharm": {
     "name": "#%%\n"
    }
   }
  },
  {
   "cell_type": "code",
   "execution_count": 44,
   "outputs": [],
   "source": [
    "with open(os.path.join(features_path, 'embeddings_val1.pkl'), 'rb') as f:\n",
    "    pkl_data=f.read()\n",
    "train=pickle.loads(pkl_data)"
   ],
   "metadata": {
    "collapsed": false,
    "pycharm": {
     "name": "#%%\n"
    }
   }
  },
  {
   "cell_type": "code",
   "execution_count": 45,
   "outputs": [],
   "source": [
    "train=train[-1]"
   ],
   "metadata": {
    "collapsed": false,
    "pycharm": {
     "name": "#%%\n"
    }
   }
  },
  {
   "cell_type": "code",
   "execution_count": 46,
   "outputs": [],
   "source": [
    "image_path_list=[]\n",
    "for index, id in enumerate(train):\n",
    "    image_info=data[data_index[id]]['images'][0]['id']\n",
    "    image_path=os.path.join(val_path, image_info[0], image_info[1], image_info[2], image_info[3], image_info)\n",
    "    # if not os.path.exists(image_path):\n",
    "    #     print('False')\n",
    "    image_path_list.append(image_path)\n",
    "\n",
    "image_path_list_str=json.dumps(image_path_list)\n",
    "with open(os.path.join(data_file_path, 'val_data_path.json'), 'w') as f:\n",
    "    f.write(image_path_list_str)"
   ],
   "metadata": {
    "collapsed": false,
    "pycharm": {
     "name": "#%%\n"
    }
   }
  },
  {
   "cell_type": "code",
   "execution_count": null,
   "outputs": [],
   "source": [],
   "metadata": {
    "collapsed": false,
    "pycharm": {
     "name": "#%%\n"
    }
   }
  },
  {
   "cell_type": "code",
   "execution_count": 12,
   "outputs": [],
   "source": [
    "path1='D:\\\\python\\\\536_final\\\\features\\\\ingredients_embeddings_train.pkl'"
   ],
   "metadata": {
    "collapsed": false,
    "pycharm": {
     "name": "#%%\n"
    }
   }
  },
  {
   "cell_type": "code",
   "execution_count": 13,
   "outputs": [],
   "source": [
    "with open(path1, 'rb') as f:\n",
    "    text_data=f.read()"
   ],
   "metadata": {
    "collapsed": false,
    "pycharm": {
     "name": "#%%\n"
    }
   }
  },
  {
   "cell_type": "code",
   "execution_count": 14,
   "outputs": [],
   "source": [
    "data=pickle.loads(text_data)"
   ],
   "metadata": {
    "collapsed": false,
    "pycharm": {
     "name": "#%%\n"
    }
   }
  },
  {
   "cell_type": "code",
   "execution_count": 15,
   "outputs": [
    {
     "data": {
      "text/plain": "[array([[ 0.00564536, -0.02037382, -0.00463646, ..., -0.04341534,\n         -0.01467408,  0.00507603],\n        [-0.00187416,  0.02895879, -0.02075829, ..., -0.04217408,\n          0.02165234, -0.04735624],\n        [ 0.02212369,  0.02056557, -0.02441598, ..., -0.04005115,\n         -0.0408015 ,  0.00264218],\n        ...,\n        [ 0.03715511, -0.02806203,  0.02679561, ..., -0.03860847,\n          0.01014836, -0.03186599],\n        [ 0.01010268,  0.0115707 ,  0.02505188, ...,  0.01215284,\n          0.02697485, -0.00233357],\n        [ 0.02446247, -0.03275741,  0.01276635, ...,  0.04616829,\n         -0.04219371,  0.03476096]], dtype=float32),\n array(['000075604a', '00007bfd16', '000095fc1d', ..., 'ffffcd4444',\n        'ffffd33513', 'ffffd533d7'], dtype='<U10')]"
     },
     "execution_count": 15,
     "metadata": {},
     "output_type": "execute_result"
    }
   ],
   "source": [
    "data"
   ],
   "metadata": {
    "collapsed": false,
    "pycharm": {
     "name": "#%%\n"
    }
   }
  },
  {
   "cell_type": "markdown",
   "source": [
    "## generate_text_position"
   ],
   "metadata": {
    "collapsed": false,
    "pycharm": {
     "name": "#%% md\n"
    }
   }
  },
  {
   "cell_type": "code",
   "execution_count": 55,
   "outputs": [],
   "source": [
    "import shutil"
   ],
   "metadata": {
    "collapsed": false,
    "pycharm": {
     "name": "#%%\n"
    }
   }
  },
  {
   "cell_type": "code",
   "execution_count": 56,
   "outputs": [],
   "source": [
    "with open(os.path.join(data_file_path, 'layer1.json'),'r') as f:\n",
    "    str_data=f.read()\n",
    "data=json.loads(str_data)"
   ],
   "metadata": {
    "collapsed": false,
    "pycharm": {
     "name": "#%%\n"
    }
   }
  },
  {
   "cell_type": "code",
   "execution_count": 57,
   "outputs": [
    {
     "data": {
      "text/plain": "1029720"
     },
     "execution_count": 57,
     "metadata": {},
     "output_type": "execute_result"
    }
   ],
   "source": [
    "len(data)"
   ],
   "metadata": {
    "collapsed": false,
    "pycharm": {
     "name": "#%%\n"
    }
   }
  },
  {
   "cell_type": "code",
   "execution_count": 58,
   "outputs": [],
   "source": [
    "text_info={}\n",
    "for i in range(len(data)):\n",
    "    text_info[data[i]['id']]=i\n",
    "str_text_info=json.dumps(text_info)"
   ],
   "metadata": {
    "collapsed": false,
    "pycharm": {
     "name": "#%%\n"
    }
   }
  },
  {
   "cell_type": "code",
   "execution_count": 13,
   "outputs": [],
   "source": [
    "with open(os.path.join(data_file_path, 'text_info.json'), 'w') as f:\n",
    "    f.write(str_text_info)\n"
   ],
   "metadata": {
    "collapsed": false,
    "pycharm": {
     "name": "#%%\n"
    }
   }
  },
  {
   "cell_type": "code",
   "execution_count": null,
   "outputs": [],
   "source": [],
   "metadata": {
    "collapsed": false,
    "pycharm": {
     "name": "#%%\n"
    }
   }
  }
 ],
 "metadata": {
  "kernelspec": {
   "display_name": "Python 3",
   "language": "python",
   "name": "python3"
  },
  "language_info": {
   "codemirror_mode": {
    "name": "ipython",
    "version": 2
   },
   "file_extension": ".py",
   "mimetype": "text/x-python",
   "name": "python",
   "nbconvert_exporter": "python",
   "pygments_lexer": "ipython2",
   "version": "2.7.6"
  }
 },
 "nbformat": 4,
 "nbformat_minor": 0
}